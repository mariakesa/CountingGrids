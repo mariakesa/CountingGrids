{
 "cells": [
  {
   "cell_type": "code",
   "execution_count": 2,
   "metadata": {},
   "outputs": [],
   "source": [
    "import numpy as np\n",
    "#from counting_grid import CountingGrid"
   ]
  },
  {
   "cell_type": "code",
   "execution_count": 10,
   "metadata": {},
   "outputs": [],
   "source": [
    "class CountingGrid():\n",
    "    def __init__(self, size, window_size, nr_of_features):\n",
    "        '''\n",
    "        size-- a two-dimensional numpy array, indicating the size of the\n",
    "        Counting Grid\n",
    "        window_size-- a two-dimensional numpy array, indicating the size\n",
    "        of the window\n",
    "        '''\n",
    "        np.random.seed(7)\n",
    "        self.size = size\n",
    "        self.window_size = window_size\n",
    "        self.nr_of_features = nr_of_features # No. of features\n",
    "        #Initialize arrays here for pi, h\n",
    "        #pi is a 3D array, storing the probability distributions\n",
    "        #that collectively characterize the data. The first dimensionality\n",
    "        #corresponds to features, e.g. it is Z. The second and third\n",
    "        #dimension correspond to the size of the grid in x and y directions.\n",
    "        rand_init_pi = 1 + np.random.rand(self.nr_of_features,self.size[0],self.size[1])        \n",
    "        self.pi = rand_init_pi/sum(rand_init_pi,0)\n",
    "        #Test pi    \n",
    "        #self.pi = np.array([[[0.494, 0.524],[0.479,0.418]],[[0.506, 0.476],[0.521, 0.582]]])       \n",
    "        self.h = np.zeros((self.nr_of_features,self.size[0],self.size[1]))    \n",
    "        #self.compute_histograms()\n",
    "        \n",
    "    def compute_sum_in_a_window(self,grid,k,l):\n",
    "        cumsum1=np.sum(np.sum(grid[:,:k+self.window_size[0],:l+self.window_size[1]],axis=1),axis=1)\n",
    "        \n",
    "        cumsum2=np.sum(np.sum(grid[:,:k,:l+self.window_size[1]],axis=1),axis=1)\n",
    "        \n",
    "        cumsum3=np.sum(np.sum(grid[:,:k+self.window_size[0],:l],axis=1),axis=1)\n",
    "        cumsum4=np.sum(np.sum(grid[:,:k,:l],axis=1),axis=1)\n",
    "        cumsum=cumsum1-cumsum2-cumsum3+cumsum4\n",
    "        '''\n",
    "        cumsum1 = grid[self.window_size[0]-1:,self.window_size[1]-1:]\n",
    "        cumsum2  = grid[:grid.shape[0]-self.window_size[0]+1,self.window_size[1]-1:]\n",
    "        cumsum3 = grid[self.window_size[0]-1:,:grid.shape[1]-self.window_size[1]+1]    \n",
    "        cumsum4 = grid[:grid.shape[0]-self.window_size[0]+1,:grid.shape[1]-self.window_size[1]+1]    \n",
    "        #print cumsum1.shape, cumsum2.shape,cumsum3.shape    \n",
    "        cumsum =  cumsum1+cumsum2+cumsum3+cumsum4\n",
    "        cumsum = cumsum[:cumsum.shape[1]-1,:cumsum.shape[1]-1]\n",
    "        '''\n",
    "        return cumsum\n",
    "    \n",
    "    def compute_histograms(self):\n",
    "        '''\n",
    "        Histograms at each point in the grid are computed\n",
    "        by averaging the distributions pi in a pre-defined\n",
    "        window. The left upmost corner of the window is placed\n",
    "        on the grid position and the distributions are averaged.\n",
    "        '''\n",
    "        for k in range(0,self.size[0]):\n",
    "            for l in range(0,self.size[1]):\n",
    "                self.h[:,k,l]=self.compute_sum_in_a_window(self.pi,k,l)\n",
    "        self.h=self.h/np.prod(self.window_size)\n",
    "        print(self.h)\n",
    "                \n",
    "        \n",
    "    \n",
    "class CountingGridTest():\n",
    "    def test_h_computation(self):\n",
    "        self.pi\n",
    "        return 0\n",
    "    def test_e_step(self):\n",
    "        return 0\n",
    "    \n",
    "    def test_m_step(self):\n",
    "        return 0\n",
    "    \n",
    "    def test_arr_sum(self):\n",
    "        return 0"
   ]
  },
  {
   "cell_type": "code",
   "execution_count": 11,
   "metadata": {},
   "outputs": [
    {
     "name": "stdout",
     "output_type": "stream",
     "text": [
      "[[[0.36276502 0.32504596 0.30099668 0.34584886 0.18393083]\n",
      "  [0.35711285 0.33432482 0.29840199 0.3014378  0.15966794]\n",
      "  [0.33329783 0.31668244 0.32518974 0.30349302 0.14223587]\n",
      "  [0.35678682 0.31643476 0.32710895 0.33937656 0.15327864]\n",
      "  [0.18600527 0.17766831 0.16153802 0.18086445 0.08851516]]\n",
      "\n",
      " [[0.33021305 0.34510168 0.34470857 0.32172688 0.15034454]\n",
      "  [0.33978469 0.34563195 0.356336   0.33769106 0.15159748]\n",
      "  [0.32174262 0.3284022  0.33574103 0.33506598 0.1689451 ]\n",
      "  [0.3155256  0.34243307 0.32610964 0.30984831 0.17292576]\n",
      "  [0.1618791  0.18581211 0.17761193 0.15112565 0.08072554]]\n",
      "\n",
      " [[0.30702193 0.32985236 0.35429475 0.33242426 0.16572464]\n",
      "  [0.30310247 0.32004323 0.345262   0.36087114 0.18873458]\n",
      "  [0.34495956 0.35491536 0.33906923 0.361441   0.18881903]\n",
      "  [0.32768758 0.34113218 0.34678141 0.35077513 0.1737956 ]\n",
      "  [0.15211563 0.13651958 0.16085005 0.1680099  0.08075931]]]\n"
     ]
    }
   ],
   "source": [
    "cg_obj=CountingGrid(np.array([5,5]),np.array([2,2]),3)\n",
    "cg_obj.compute_histograms()"
   ]
  },
  {
   "cell_type": "code",
   "execution_count": 9,
   "metadata": {},
   "outputs": [
    {
     "name": "stdout",
     "output_type": "stream",
     "text": [
      "[0.64615207 0.71044772 0.64340021]\n",
      "[[[0.29635248 0.37632129 0.29822722 0.35062672 0.40694111]\n",
      "  [0.41083835 0.36754795 0.25808737 0.29704539 0.3287822 ]\n",
      "  [0.30684227 0.34322282 0.36844113 0.27003406 0.30988956]\n",
      "  [0.41534963 0.26777659 0.28728922 0.37499452 0.25905392]\n",
      "  [0.31010278 0.4339183  0.27675492 0.36939715 0.35406063]]\n",
      "\n",
      " [[0.31200873 0.32208919 0.36291471 0.33954886 0.30196772]\n",
      "  [0.32174166 0.36501264 0.33039017 0.34598054 0.29941042]\n",
      "  [0.335839   0.33654546 0.35057953 0.39839378 0.30697948]\n",
      "  [0.31600325 0.29858275 0.32790107 0.26608976 0.3688009 ]\n",
      "  [0.33311521 0.31440118 0.42884726 0.28160045 0.32290215]]\n",
      "\n",
      " [[0.39163879 0.30158952 0.33885807 0.30982442 0.29109117]\n",
      "  [0.26742    0.26743942 0.41152245 0.35697407 0.37180737]\n",
      "  [0.35731873 0.32023171 0.28097934 0.33157215 0.38313096]\n",
      "  [0.26864712 0.43364066 0.3848097  0.35891572 0.37214518]\n",
      "  [0.35678201 0.25168052 0.29439782 0.3490024  0.32303722]]]\n",
      "1.2801729225906024\n"
     ]
    }
   ],
   "source": [
    "cg_obj=CountingGrid(np.array([5,5]),np.array([2,2]),3)\n",
    "#X has dimensions different from the counts in \n",
    "#MATLAB implementation-- one row is one data vector,\n",
    "#that's how it is in sci-kit learn\n",
    "X=np.array([[1,2,3],[3,4,5]])\n",
    "print(cg_obj.compute_sum_in_a_window(cg_obj.pi,4,2))\n",
    "print(cg_obj.pi)\n",
    "#np.sum(cg_obj.pi[0,:2,:2])\n",
    "print(np.sum(cg_obj.pi[2,1:3,1:3]))"
   ]
  }
 ],
 "metadata": {
  "kernelspec": {
   "display_name": "Python 3",
   "language": "python",
   "name": "python3"
  },
  "language_info": {
   "codemirror_mode": {
    "name": "ipython",
    "version": 3
   },
   "file_extension": ".py",
   "mimetype": "text/x-python",
   "name": "python",
   "nbconvert_exporter": "python",
   "pygments_lexer": "ipython3",
   "version": "3.6.5"
  }
 },
 "nbformat": 4,
 "nbformat_minor": 2
}
